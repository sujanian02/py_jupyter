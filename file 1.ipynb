{
 "cells": [
  {
   "cell_type": "code",
   "execution_count": 1,
   "metadata": {},
   "outputs": [],
   "source": [
    "x=4"
   ]
  },
  {
   "cell_type": "code",
   "execution_count": 2,
   "metadata": {},
   "outputs": [
    {
     "data": {
      "text/plain": [
       "4"
      ]
     },
     "execution_count": 2,
     "metadata": {},
     "output_type": "execute_result"
    }
   ],
   "source": [
    "x"
   ]
  },
  {
   "cell_type": "code",
   "execution_count": 3,
   "metadata": {},
   "outputs": [],
   "source": [
    "import pandas as pd"
   ]
  },
  {
   "cell_type": "code",
   "execution_count": 4,
   "metadata": {},
   "outputs": [],
   "source": [
    "import numpy as np"
   ]
  },
  {
   "cell_type": "code",
   "execution_count": 5,
   "metadata": {},
   "outputs": [],
   "source": [
    "may=pd.read_csv('https://raw.githubusercontent.com/akjadon/Finalprojects_DS/master/Ride_Rating_Prediction/train.csv')"
   ]
  },
  {
   "cell_type": "code",
   "execution_count": 6,
   "metadata": {},
   "outputs": [
    {
     "data": {
      "text/html": [
       "<div>\n",
       "<style scoped>\n",
       "    .dataframe tbody tr th:only-of-type {\n",
       "        vertical-align: middle;\n",
       "    }\n",
       "\n",
       "    .dataframe tbody tr th {\n",
       "        vertical-align: top;\n",
       "    }\n",
       "\n",
       "    .dataframe thead th {\n",
       "        text-align: right;\n",
       "    }\n",
       "</style>\n",
       "<table border=\"1\" class=\"dataframe\">\n",
       "  <thead>\n",
       "    <tr style=\"text-align: right;\">\n",
       "      <th></th>\n",
       "      <th>Unnamed: 0</th>\n",
       "      <th>customer_id</th>\n",
       "      <th>driver_id</th>\n",
       "      <th>creation_date</th>\n",
       "      <th>booking_source</th>\n",
       "      <th>car_type</th>\n",
       "      <th>estimated_distance</th>\n",
       "      <th>distance_travelled</th>\n",
       "      <th>distance_travelled_while_moving</th>\n",
       "      <th>estimated_duration</th>\n",
       "      <th>duration_time</th>\n",
       "      <th>wait_time_initial</th>\n",
       "      <th>wait_time_in_journey</th>\n",
       "      <th>estimated_price</th>\n",
       "      <th>price</th>\n",
       "      <th>is_cancelled</th>\n",
       "      <th>rating</th>\n",
       "      <th>was_rated</th>\n",
       "    </tr>\n",
       "  </thead>\n",
       "  <tbody>\n",
       "    <tr>\n",
       "      <th>0</th>\n",
       "      <td>0</td>\n",
       "      <td>52400320</td>\n",
       "      <td>1838640</td>\n",
       "      <td>2017-09-08 11:32:05.000</td>\n",
       "      <td>1</td>\n",
       "      <td>1</td>\n",
       "      <td>0.0</td>\n",
       "      <td>7.28666</td>\n",
       "      <td>7.17712</td>\n",
       "      <td>0</td>\n",
       "      <td>11</td>\n",
       "      <td>18</td>\n",
       "      <td>2</td>\n",
       "      <td>0.0</td>\n",
       "      <td>17.375184</td>\n",
       "      <td>0</td>\n",
       "      <td>4</td>\n",
       "      <td>1</td>\n",
       "    </tr>\n",
       "    <tr>\n",
       "      <th>1</th>\n",
       "      <td>1</td>\n",
       "      <td>29858456</td>\n",
       "      <td>1793472</td>\n",
       "      <td>2017-09-08 12:42:33.000</td>\n",
       "      <td>1</td>\n",
       "      <td>1</td>\n",
       "      <td>0.0</td>\n",
       "      <td>1.25836</td>\n",
       "      <td>1.05664</td>\n",
       "      <td>0</td>\n",
       "      <td>4</td>\n",
       "      <td>1</td>\n",
       "      <td>1</td>\n",
       "      <td>0.0</td>\n",
       "      <td>8.507064</td>\n",
       "      <td>0</td>\n",
       "      <td>4</td>\n",
       "      <td>1</td>\n",
       "    </tr>\n",
       "    <tr>\n",
       "      <th>2</th>\n",
       "      <td>2</td>\n",
       "      <td>30828968</td>\n",
       "      <td>1726788</td>\n",
       "      <td>2017-09-08 12:46:42.000</td>\n",
       "      <td>2</td>\n",
       "      <td>1</td>\n",
       "      <td>0.0</td>\n",
       "      <td>14.57820</td>\n",
       "      <td>14.44060</td>\n",
       "      <td>0</td>\n",
       "      <td>16</td>\n",
       "      <td>3</td>\n",
       "      <td>2</td>\n",
       "      <td>0.0</td>\n",
       "      <td>19.745205</td>\n",
       "      <td>0</td>\n",
       "      <td>5</td>\n",
       "      <td>1</td>\n",
       "    </tr>\n",
       "    <tr>\n",
       "      <th>3</th>\n",
       "      <td>3</td>\n",
       "      <td>47974768</td>\n",
       "      <td>1181696</td>\n",
       "      <td>2017-09-08 13:52:35.000</td>\n",
       "      <td>2</td>\n",
       "      <td>1</td>\n",
       "      <td>0.0</td>\n",
       "      <td>1.51911</td>\n",
       "      <td>1.18684</td>\n",
       "      <td>0</td>\n",
       "      <td>8</td>\n",
       "      <td>0</td>\n",
       "      <td>5</td>\n",
       "      <td>0.0</td>\n",
       "      <td>10.968003</td>\n",
       "      <td>0</td>\n",
       "      <td>0</td>\n",
       "      <td>0</td>\n",
       "    </tr>\n",
       "    <tr>\n",
       "      <th>4</th>\n",
       "      <td>4</td>\n",
       "      <td>59503764</td>\n",
       "      <td>2063752</td>\n",
       "      <td>2017-09-08 14:18:47.000</td>\n",
       "      <td>2</td>\n",
       "      <td>1</td>\n",
       "      <td>0.0</td>\n",
       "      <td>11.09320</td>\n",
       "      <td>10.67240</td>\n",
       "      <td>0</td>\n",
       "      <td>19</td>\n",
       "      <td>1</td>\n",
       "      <td>4</td>\n",
       "      <td>0.0</td>\n",
       "      <td>17.595398</td>\n",
       "      <td>0</td>\n",
       "      <td>5</td>\n",
       "      <td>1</td>\n",
       "    </tr>\n",
       "  </tbody>\n",
       "</table>\n",
       "</div>"
      ],
      "text/plain": [
       "   Unnamed: 0  customer_id  driver_id            creation_date  \\\n",
       "0           0     52400320    1838640  2017-09-08 11:32:05.000   \n",
       "1           1     29858456    1793472  2017-09-08 12:42:33.000   \n",
       "2           2     30828968    1726788  2017-09-08 12:46:42.000   \n",
       "3           3     47974768    1181696  2017-09-08 13:52:35.000   \n",
       "4           4     59503764    2063752  2017-09-08 14:18:47.000   \n",
       "\n",
       "   booking_source  car_type  estimated_distance  distance_travelled  \\\n",
       "0               1         1                 0.0             7.28666   \n",
       "1               1         1                 0.0             1.25836   \n",
       "2               2         1                 0.0            14.57820   \n",
       "3               2         1                 0.0             1.51911   \n",
       "4               2         1                 0.0            11.09320   \n",
       "\n",
       "   distance_travelled_while_moving  estimated_duration  duration_time  \\\n",
       "0                          7.17712                   0             11   \n",
       "1                          1.05664                   0              4   \n",
       "2                         14.44060                   0             16   \n",
       "3                          1.18684                   0              8   \n",
       "4                         10.67240                   0             19   \n",
       "\n",
       "   wait_time_initial  wait_time_in_journey  estimated_price      price  \\\n",
       "0                 18                     2              0.0  17.375184   \n",
       "1                  1                     1              0.0   8.507064   \n",
       "2                  3                     2              0.0  19.745205   \n",
       "3                  0                     5              0.0  10.968003   \n",
       "4                  1                     4              0.0  17.595398   \n",
       "\n",
       "   is_cancelled  rating  was_rated  \n",
       "0             0       4          1  \n",
       "1             0       4          1  \n",
       "2             0       5          1  \n",
       "3             0       0          0  \n",
       "4             0       5          1  "
      ]
     },
     "execution_count": 6,
     "metadata": {},
     "output_type": "execute_result"
    }
   ],
   "source": [
    "may.head()"
   ]
  },
  {
   "cell_type": "markdown",
   "metadata": {},
   "source": []
  }
 ],
 "metadata": {
  "kernelspec": {
   "display_name": "Python 3",
   "language": "python",
   "name": "python3"
  },
  "language_info": {
   "codemirror_mode": {
    "name": "ipython",
    "version": 3
   },
   "file_extension": ".py",
   "mimetype": "text/x-python",
   "name": "python",
   "nbconvert_exporter": "python",
   "pygments_lexer": "ipython3",
   "version": "3.7.3"
  }
 },
 "nbformat": 4,
 "nbformat_minor": 2
}
