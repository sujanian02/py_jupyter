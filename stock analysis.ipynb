{
 "cells": [
  {
   "cell_type": "code",
   "execution_count": 5,
   "metadata": {},
   "outputs": [],
   "source": [
    "#stock analysis "
   ]
  },
  {
   "cell_type": "code",
   "execution_count": 7,
   "metadata": {},
   "outputs": [],
   "source": [
    "import pandas_datareader as web"
   ]
  },
  {
   "cell_type": "code",
   "execution_count": 8,
   "metadata": {},
   "outputs": [],
   "source": [
    "import datetime"
   ]
  },
  {
   "cell_type": "code",
   "execution_count": 9,
   "metadata": {},
   "outputs": [],
   "source": [
    "import matplotlib.pyplot as plt"
   ]
  },
  {
   "cell_type": "code",
   "execution_count": 10,
   "metadata": {},
   "outputs": [],
   "source": [
    "start1 = datetime.datetime(2017,1,1)"
   ]
  },
  {
   "cell_type": "code",
   "execution_count": 11,
   "metadata": {},
   "outputs": [],
   "source": [
    "end1= datetime.datetime(2019,7,20) "
   ]
  },
  {
   "cell_type": "code",
   "execution_count": 12,
   "metadata": {},
   "outputs": [],
   "source": [
    "sbi_y= web.DataReader('sbin.ns','yahoo',start=start1,end=end1) #url _yahoo finance"
   ]
  },
  {
   "cell_type": "code",
   "execution_count": 14,
   "metadata": {},
   "outputs": [
    {
     "data": {
      "text/html": [
       "<div>\n",
       "<style scoped>\n",
       "    .dataframe tbody tr th:only-of-type {\n",
       "        vertical-align: middle;\n",
       "    }\n",
       "\n",
       "    .dataframe tbody tr th {\n",
       "        vertical-align: top;\n",
       "    }\n",
       "\n",
       "    .dataframe thead th {\n",
       "        text-align: right;\n",
       "    }\n",
       "</style>\n",
       "<table border=\"1\" class=\"dataframe\">\n",
       "  <thead>\n",
       "    <tr style=\"text-align: right;\">\n",
       "      <th></th>\n",
       "      <th>High</th>\n",
       "      <th>Low</th>\n",
       "      <th>Open</th>\n",
       "      <th>Close</th>\n",
       "      <th>Volume</th>\n",
       "      <th>Adj Close</th>\n",
       "    </tr>\n",
       "    <tr>\n",
       "      <th>Date</th>\n",
       "      <th></th>\n",
       "      <th></th>\n",
       "      <th></th>\n",
       "      <th></th>\n",
       "      <th></th>\n",
       "      <th></th>\n",
       "    </tr>\n",
       "  </thead>\n",
       "  <tbody>\n",
       "    <tr>\n",
       "      <th>2017-01-02</th>\n",
       "      <td>253.649994</td>\n",
       "      <td>242.600006</td>\n",
       "      <td>252.500000</td>\n",
       "      <td>243.600006</td>\n",
       "      <td>25988990.0</td>\n",
       "      <td>241.416748</td>\n",
       "    </tr>\n",
       "    <tr>\n",
       "      <th>2017-01-03</th>\n",
       "      <td>246.399994</td>\n",
       "      <td>241.100006</td>\n",
       "      <td>244.000000</td>\n",
       "      <td>244.899994</td>\n",
       "      <td>15963085.0</td>\n",
       "      <td>242.705093</td>\n",
       "    </tr>\n",
       "    <tr>\n",
       "      <th>2017-01-04</th>\n",
       "      <td>246.399994</td>\n",
       "      <td>242.199997</td>\n",
       "      <td>245.800003</td>\n",
       "      <td>242.899994</td>\n",
       "      <td>11225978.0</td>\n",
       "      <td>240.723007</td>\n",
       "    </tr>\n",
       "    <tr>\n",
       "      <th>2017-01-05</th>\n",
       "      <td>245.899994</td>\n",
       "      <td>243.699997</td>\n",
       "      <td>245.000000</td>\n",
       "      <td>245.350006</td>\n",
       "      <td>11970913.0</td>\n",
       "      <td>243.151062</td>\n",
       "    </tr>\n",
       "    <tr>\n",
       "      <th>2017-01-06</th>\n",
       "      <td>249.000000</td>\n",
       "      <td>245.500000</td>\n",
       "      <td>246.000000</td>\n",
       "      <td>245.899994</td>\n",
       "      <td>12354302.0</td>\n",
       "      <td>243.696121</td>\n",
       "    </tr>\n",
       "  </tbody>\n",
       "</table>\n",
       "</div>"
      ],
      "text/plain": [
       "                  High         Low        Open       Close      Volume  \\\n",
       "Date                                                                     \n",
       "2017-01-02  253.649994  242.600006  252.500000  243.600006  25988990.0   \n",
       "2017-01-03  246.399994  241.100006  244.000000  244.899994  15963085.0   \n",
       "2017-01-04  246.399994  242.199997  245.800003  242.899994  11225978.0   \n",
       "2017-01-05  245.899994  243.699997  245.000000  245.350006  11970913.0   \n",
       "2017-01-06  249.000000  245.500000  246.000000  245.899994  12354302.0   \n",
       "\n",
       "             Adj Close  \n",
       "Date                    \n",
       "2017-01-02  241.416748  \n",
       "2017-01-03  242.705093  \n",
       "2017-01-04  240.723007  \n",
       "2017-01-05  243.151062  \n",
       "2017-01-06  243.696121  "
      ]
     },
     "execution_count": 14,
     "metadata": {},
     "output_type": "execute_result"
    }
   ],
   "source": [
    "sbi_y.head(5)"
   ]
  },
  {
   "cell_type": "code",
   "execution_count": 17,
   "metadata": {},
   "outputs": [
    {
     "data": {
      "text/plain": [
       "(629, 6)"
      ]
     },
     "execution_count": 17,
     "metadata": {},
     "output_type": "execute_result"
    }
   ],
   "source": [
    "sbi_y.shape"
   ]
  },
  {
   "cell_type": "code",
   "execution_count": 18,
   "metadata": {},
   "outputs": [
    {
     "data": {
      "text/plain": [
       "<matplotlib.axes._subplots.AxesSubplot at 0x20fdbc5d390>"
      ]
     },
     "execution_count": 18,
     "metadata": {},
     "output_type": "execute_result"
    },
    {
     "data": {
      "image/png": "[encoded data removed]",
      "text/plain": [
       "<Figure size 432x288 with 1 Axes>"
      ]
     },
     "metadata": {
      "needs_background": "light"
     },
     "output_type": "display_data"
    }
   ],
   "source": [
    "sbi_y.Close.plot()"
   ]
  },
  {
   "cell_type": "code",
   "execution_count": 19,
   "metadata": {},
   "outputs": [
    {
     "data": {
      "text/plain": [
       "<matplotlib.axes._subplots.AxesSubplot at 0x20fdc19a780>"
      ]
     },
     "execution_count": 19,
     "metadata": {},
     "output_type": "execute_result"
    },
    {
     "data": {
      "image/png": "[encoded data removed]",
      "text/plain": [
       "<Figure size 432x288 with 1 Axes>"
      ]
     },
     "metadata": {
      "needs_background": "light"
     },
     "output_type": "display_data"
    }
   ],
   "source": [
    "sbi_y.Volume.plot()"
   ]
  },
  {
   "cell_type": "code",
   "execution_count": 21,
   "metadata": {},
   "outputs": [],
   "source": [
    "import quandl"
   ]
  },
  {
   "cell_type": "code",
   "execution_count": 23,
   "metadata": {},
   "outputs": [],
   "source": [
    "sbi_q = quandl.get(\"BSE/BOM500112\", start_date=start1, end_date=end1, api_key=\"4D8hkYAV4WEkcTmD9LMW\")"
   ]
  },
  {
   "cell_type": "code",
   "execution_count": 25,
   "metadata": {},
   "outputs": [
    {
     "data": {
      "text/html": [
       "<div>\n",
       "<style scoped>\n",
       "    .dataframe tbody tr th:only-of-type {\n",
       "        vertical-align: middle;\n",
       "    }\n",
       "\n",
       "    .dataframe tbody tr th {\n",
       "        vertical-align: top;\n",
       "    }\n",
       "\n",
       "    .dataframe thead th {\n",
       "        text-align: right;\n",
       "    }\n",
       "</style>\n",
       "<table border=\"1\" class=\"dataframe\">\n",
       "  <thead>\n",
       "    <tr style=\"text-align: right;\">\n",
       "      <th></th>\n",
       "      <th>Open</th>\n",
       "      <th>High</th>\n",
       "      <th>Low</th>\n",
       "      <th>Close</th>\n",
       "      <th>WAP</th>\n",
       "      <th>No. of Shares</th>\n",
       "      <th>No. of Trades</th>\n",
       "      <th>Total Turnover</th>\n",
       "      <th>Deliverable Quantity</th>\n",
       "      <th>% Deli. Qty to Traded Qty</th>\n",
       "      <th>Spread H-L</th>\n",
       "      <th>Spread C-O</th>\n",
       "    </tr>\n",
       "    <tr>\n",
       "      <th>Date</th>\n",
       "      <th></th>\n",
       "      <th></th>\n",
       "      <th></th>\n",
       "      <th></th>\n",
       "      <th></th>\n",
       "      <th></th>\n",
       "      <th></th>\n",
       "      <th></th>\n",
       "      <th></th>\n",
       "      <th></th>\n",
       "      <th></th>\n",
       "      <th></th>\n",
       "    </tr>\n",
       "  </thead>\n",
       "  <tbody>\n",
       "    <tr>\n",
       "      <th>2017-01-02</th>\n",
       "      <td>252.75</td>\n",
       "      <td>253.50</td>\n",
       "      <td>242.80</td>\n",
       "      <td>243.60</td>\n",
       "      <td>244.85</td>\n",
       "      <td>2429618.0</td>\n",
       "      <td>26779.0</td>\n",
       "      <td>594882604.0</td>\n",
       "      <td>909379.0</td>\n",
       "      <td>37.43</td>\n",
       "      <td>10.70</td>\n",
       "      <td>-9.15</td>\n",
       "    </tr>\n",
       "    <tr>\n",
       "      <th>2017-01-03</th>\n",
       "      <td>243.60</td>\n",
       "      <td>246.30</td>\n",
       "      <td>241.10</td>\n",
       "      <td>244.85</td>\n",
       "      <td>244.46</td>\n",
       "      <td>1524646.0</td>\n",
       "      <td>14539.0</td>\n",
       "      <td>372716459.0</td>\n",
       "      <td>354956.0</td>\n",
       "      <td>23.28</td>\n",
       "      <td>5.20</td>\n",
       "      <td>1.25</td>\n",
       "    </tr>\n",
       "    <tr>\n",
       "      <th>2017-01-04</th>\n",
       "      <td>245.20</td>\n",
       "      <td>246.45</td>\n",
       "      <td>242.50</td>\n",
       "      <td>242.90</td>\n",
       "      <td>243.94</td>\n",
       "      <td>1271447.0</td>\n",
       "      <td>11180.0</td>\n",
       "      <td>310153309.0</td>\n",
       "      <td>374398.0</td>\n",
       "      <td>29.45</td>\n",
       "      <td>3.95</td>\n",
       "      <td>-2.30</td>\n",
       "    </tr>\n",
       "    <tr>\n",
       "      <th>2017-01-05</th>\n",
       "      <td>244.95</td>\n",
       "      <td>246.00</td>\n",
       "      <td>244.05</td>\n",
       "      <td>245.45</td>\n",
       "      <td>245.19</td>\n",
       "      <td>1025688.0</td>\n",
       "      <td>9359.0</td>\n",
       "      <td>251486248.0</td>\n",
       "      <td>270312.0</td>\n",
       "      <td>26.35</td>\n",
       "      <td>1.95</td>\n",
       "      <td>0.50</td>\n",
       "    </tr>\n",
       "    <tr>\n",
       "      <th>2017-01-06</th>\n",
       "      <td>246.00</td>\n",
       "      <td>248.95</td>\n",
       "      <td>245.30</td>\n",
       "      <td>245.95</td>\n",
       "      <td>247.17</td>\n",
       "      <td>1050117.0</td>\n",
       "      <td>9851.0</td>\n",
       "      <td>259555569.0</td>\n",
       "      <td>267654.0</td>\n",
       "      <td>25.49</td>\n",
       "      <td>3.65</td>\n",
       "      <td>-0.05</td>\n",
       "    </tr>\n",
       "  </tbody>\n",
       "</table>\n",
       "</div>"
      ],
      "text/plain": [
       "              Open    High     Low   Close     WAP  No. of Shares  \\\n",
       "Date                                                                \n",
       "2017-01-02  252.75  253.50  242.80  243.60  244.85      2429618.0   \n",
       "2017-01-03  243.60  246.30  241.10  244.85  244.46      1524646.0   \n",
       "2017-01-04  245.20  246.45  242.50  242.90  243.94      1271447.0   \n",
       "2017-01-05  244.95  246.00  244.05  245.45  245.19      1025688.0   \n",
       "2017-01-06  246.00  248.95  245.30  245.95  247.17      1050117.0   \n",
       "\n",
       "            No. of Trades  Total Turnover  Deliverable Quantity  \\\n",
       "Date                                                              \n",
       "2017-01-02        26779.0     594882604.0              909379.0   \n",
       "2017-01-03        14539.0     372716459.0              354956.0   \n",
       "2017-01-04        11180.0     310153309.0              374398.0   \n",
       "2017-01-05         9359.0     251486248.0              270312.0   \n",
       "2017-01-06         9851.0     259555569.0              267654.0   \n",
       "\n",
       "            % Deli. Qty to Traded Qty  Spread H-L  Spread C-O  \n",
       "Date                                                           \n",
       "2017-01-02                      37.43       10.70       -9.15  \n",
       "2017-01-03                      23.28        5.20        1.25  \n",
       "2017-01-04                      29.45        3.95       -2.30  \n",
       "2017-01-05                      26.35        1.95        0.50  \n",
       "2017-01-06                      25.49        3.65       -0.05  "
      ]
     },
     "execution_count": 25,
     "metadata": {},
     "output_type": "execute_result"
    }
   ],
   "source": [
    "sbi_q.head()"
   ]
  },
  {
   "cell_type": "code",
   "execution_count": 26,
   "metadata": {},
   "outputs": [
    {
     "data": {
      "text/plain": [
       "<matplotlib.axes._subplots.AxesSubplot at 0x20fdc27f3c8>"
      ]
     },
     "execution_count": 26,
     "metadata": {},
     "output_type": "execute_result"
    },
    {
     "data": {
      "image/png": "[encoded data removed]",
      "text/plain": [
       "<Figure size 432x288 with 1 Axes>"
      ]
     },
     "metadata": {
      "needs_background": "light"
     },
     "output_type": "display_data"
    }
   ],
   "source": [
    "sbi_q.Close.plot()"
   ]
  },
  {
   "cell_type": "code",
   "execution_count": 32,
   "metadata": {},
   "outputs": [
    {
     "data": {
      "text/html": [
       "<div>\n",
       "<style scoped>\n",
       "    .dataframe tbody tr th:only-of-type {\n",
       "        vertical-align: middle;\n",
       "    }\n",
       "\n",
       "    .dataframe tbody tr th {\n",
       "        vertical-align: top;\n",
       "    }\n",
       "\n",
       "    .dataframe thead th {\n",
       "        text-align: right;\n",
       "    }\n",
       "</style>\n",
       "<table border=\"1\" class=\"dataframe\">\n",
       "  <thead>\n",
       "    <tr style=\"text-align: right;\">\n",
       "      <th></th>\n",
       "      <th>Open</th>\n",
       "      <th>High</th>\n",
       "      <th>Low</th>\n",
       "      <th>Close</th>\n",
       "      <th>WAP</th>\n",
       "      <th>No. of Shares</th>\n",
       "      <th>No. of Trades</th>\n",
       "      <th>Total Turnover</th>\n",
       "      <th>Deliverable Quantity</th>\n",
       "      <th>% Deli. Qty to Traded Qty</th>\n",
       "      <th>Spread H-L</th>\n",
       "      <th>Spread C-O</th>\n",
       "    </tr>\n",
       "    <tr>\n",
       "      <th>Date</th>\n",
       "      <th></th>\n",
       "      <th></th>\n",
       "      <th></th>\n",
       "      <th></th>\n",
       "      <th></th>\n",
       "      <th></th>\n",
       "      <th></th>\n",
       "      <th></th>\n",
       "      <th></th>\n",
       "      <th></th>\n",
       "      <th></th>\n",
       "      <th></th>\n",
       "    </tr>\n",
       "  </thead>\n",
       "  <tbody>\n",
       "    <tr>\n",
       "      <th>2017-01-02</th>\n",
       "      <td>252.75</td>\n",
       "      <td>253.50</td>\n",
       "      <td>242.80</td>\n",
       "      <td>243.60</td>\n",
       "      <td>244.85</td>\n",
       "      <td>2429618.0</td>\n",
       "      <td>26779.0</td>\n",
       "      <td>594882604.0</td>\n",
       "      <td>909379.0</td>\n",
       "      <td>37.43</td>\n",
       "      <td>10.70</td>\n",
       "      <td>-9.15</td>\n",
       "    </tr>\n",
       "    <tr>\n",
       "      <th>2017-01-03</th>\n",
       "      <td>243.60</td>\n",
       "      <td>246.30</td>\n",
       "      <td>241.10</td>\n",
       "      <td>244.85</td>\n",
       "      <td>244.46</td>\n",
       "      <td>1524646.0</td>\n",
       "      <td>14539.0</td>\n",
       "      <td>372716459.0</td>\n",
       "      <td>354956.0</td>\n",
       "      <td>23.28</td>\n",
       "      <td>5.20</td>\n",
       "      <td>1.25</td>\n",
       "    </tr>\n",
       "    <tr>\n",
       "      <th>2017-01-04</th>\n",
       "      <td>245.20</td>\n",
       "      <td>246.45</td>\n",
       "      <td>242.50</td>\n",
       "      <td>242.90</td>\n",
       "      <td>243.94</td>\n",
       "      <td>1271447.0</td>\n",
       "      <td>11180.0</td>\n",
       "      <td>310153309.0</td>\n",
       "      <td>374398.0</td>\n",
       "      <td>29.45</td>\n",
       "      <td>3.95</td>\n",
       "      <td>-2.30</td>\n",
       "    </tr>\n",
       "    <tr>\n",
       "      <th>2019-07-16</th>\n",
       "      <td>358.80</td>\n",
       "      <td>365.85</td>\n",
       "      <td>357.55</td>\n",
       "      <td>364.25</td>\n",
       "      <td>363.78</td>\n",
       "      <td>467513.0</td>\n",
       "      <td>5638.0</td>\n",
       "      <td>170070285.0</td>\n",
       "      <td>141641.0</td>\n",
       "      <td>30.30</td>\n",
       "      <td>8.30</td>\n",
       "      <td>5.45</td>\n",
       "    </tr>\n",
       "    <tr>\n",
       "      <th>2019-07-17</th>\n",
       "      <td>364.55</td>\n",
       "      <td>373.50</td>\n",
       "      <td>363.20</td>\n",
       "      <td>372.15</td>\n",
       "      <td>368.94</td>\n",
       "      <td>652963.0</td>\n",
       "      <td>7557.0</td>\n",
       "      <td>240907302.0</td>\n",
       "      <td>165495.0</td>\n",
       "      <td>25.35</td>\n",
       "      <td>10.30</td>\n",
       "      <td>7.60</td>\n",
       "    </tr>\n",
       "    <tr>\n",
       "      <th>2019-07-18</th>\n",
       "      <td>372.20</td>\n",
       "      <td>373.70</td>\n",
       "      <td>362.60</td>\n",
       "      <td>363.65</td>\n",
       "      <td>367.99</td>\n",
       "      <td>842441.0</td>\n",
       "      <td>7242.0</td>\n",
       "      <td>310005748.0</td>\n",
       "      <td>247377.0</td>\n",
       "      <td>29.36</td>\n",
       "      <td>11.10</td>\n",
       "      <td>-8.55</td>\n",
       "    </tr>\n",
       "  </tbody>\n",
       "</table>\n",
       "</div>"
      ],
      "text/plain": [
       "              Open    High     Low   Close     WAP  No. of Shares  \\\n",
       "Date                                                                \n",
       "2017-01-02  252.75  253.50  242.80  243.60  244.85      2429618.0   \n",
       "2017-01-03  243.60  246.30  241.10  244.85  244.46      1524646.0   \n",
       "2017-01-04  245.20  246.45  242.50  242.90  243.94      1271447.0   \n",
       "2019-07-16  358.80  365.85  357.55  364.25  363.78       467513.0   \n",
       "2019-07-17  364.55  373.50  363.20  372.15  368.94       652963.0   \n",
       "2019-07-18  372.20  373.70  362.60  363.65  367.99       842441.0   \n",
       "\n",
       "            No. of Trades  Total Turnover  Deliverable Quantity  \\\n",
       "Date                                                              \n",
       "2017-01-02        26779.0     594882604.0              909379.0   \n",
       "2017-01-03        14539.0     372716459.0              354956.0   \n",
       "2017-01-04        11180.0     310153309.0              374398.0   \n",
       "2019-07-16         5638.0     170070285.0              141641.0   \n",
       "2019-07-17         7557.0     240907302.0              165495.0   \n",
       "2019-07-18         7242.0     310005748.0              247377.0   \n",
       "\n",
       "            % Deli. Qty to Traded Qty  Spread H-L  Spread C-O  \n",
       "Date                                                           \n",
       "2017-01-02                      37.43       10.70       -9.15  \n",
       "2017-01-03                      23.28        5.20        1.25  \n",
       "2017-01-04                      29.45        3.95       -2.30  \n",
       "2019-07-16                      30.30        8.30        5.45  \n",
       "2019-07-17                      25.35       10.30        7.60  \n",
       "2019-07-18                      29.36       11.10       -8.55  "
      ]
     },
     "execution_count": 32,
     "metadata": {},
     "output_type": "execute_result"
    }
   ],
   "source": [
    "sbi_q.head(3).append(sbi_q.tail(3))"
   ]
  },
  {
   "cell_type": "code",
   "execution_count": 31,
   "metadata": {},
   "outputs": [
    {
     "data": {
      "text/html": [
       "<div>\n",
       "<style scoped>\n",
       "    .dataframe tbody tr th:only-of-type {\n",
       "        vertical-align: middle;\n",
       "    }\n",
       "\n",
       "    .dataframe tbody tr th {\n",
       "        vertical-align: top;\n",
       "    }\n",
       "\n",
       "    .dataframe thead th {\n",
       "        text-align: right;\n",
       "    }\n",
       "</style>\n",
       "<table border=\"1\" class=\"dataframe\">\n",
       "  <thead>\n",
       "    <tr style=\"text-align: right;\">\n",
       "      <th></th>\n",
       "      <th>High</th>\n",
       "      <th>Low</th>\n",
       "      <th>Open</th>\n",
       "      <th>Close</th>\n",
       "      <th>Volume</th>\n",
       "      <th>Adj Close</th>\n",
       "    </tr>\n",
       "  </thead>\n",
       "  <tbody>\n",
       "    <tr>\n",
       "      <th>count</th>\n",
       "      <td>629.000000</td>\n",
       "      <td>629.000000</td>\n",
       "      <td>629.000000</td>\n",
       "      <td>629.000000</td>\n",
       "      <td>6.290000e+02</td>\n",
       "      <td>629.000000</td>\n",
       "    </tr>\n",
       "    <tr>\n",
       "      <th>mean</th>\n",
       "      <td>291.701113</td>\n",
       "      <td>284.400556</td>\n",
       "      <td>288.181479</td>\n",
       "      <td>287.850158</td>\n",
       "      <td>2.002366e+07</td>\n",
       "      <td>287.464204</td>\n",
       "    </tr>\n",
       "    <tr>\n",
       "      <th>std</th>\n",
       "      <td>28.676123</td>\n",
       "      <td>27.791688</td>\n",
       "      <td>28.254999</td>\n",
       "      <td>28.257842</td>\n",
       "      <td>1.509022e+07</td>\n",
       "      <td>28.415417</td>\n",
       "    </tr>\n",
       "    <tr>\n",
       "      <th>min</th>\n",
       "      <td>238.800003</td>\n",
       "      <td>232.350006</td>\n",
       "      <td>233.250000</td>\n",
       "      <td>233.199997</td>\n",
       "      <td>2.095795e+06</td>\n",
       "      <td>233.199997</td>\n",
       "    </tr>\n",
       "    <tr>\n",
       "      <th>25%</th>\n",
       "      <td>271.399994</td>\n",
       "      <td>264.299988</td>\n",
       "      <td>268.000000</td>\n",
       "      <td>268.000000</td>\n",
       "      <td>1.265322e+07</td>\n",
       "      <td>267.431488</td>\n",
       "    </tr>\n",
       "    <tr>\n",
       "      <th>50%</th>\n",
       "      <td>289.450012</td>\n",
       "      <td>283.000000</td>\n",
       "      <td>286.450012</td>\n",
       "      <td>285.899994</td>\n",
       "      <td>1.645575e+07</td>\n",
       "      <td>285.399994</td>\n",
       "    </tr>\n",
       "    <tr>\n",
       "      <th>75%</th>\n",
       "      <td>308.750000</td>\n",
       "      <td>300.950012</td>\n",
       "      <td>304.649994</td>\n",
       "      <td>305.250000</td>\n",
       "      <td>2.293124e+07</td>\n",
       "      <td>304.744049</td>\n",
       "    </tr>\n",
       "    <tr>\n",
       "      <th>max</th>\n",
       "      <td>373.799988</td>\n",
       "      <td>366.200012</td>\n",
       "      <td>371.950012</td>\n",
       "      <td>372.399994</td>\n",
       "      <td>2.626771e+08</td>\n",
       "      <td>372.399994</td>\n",
       "    </tr>\n",
       "  </tbody>\n",
       "</table>\n",
       "</div>"
      ],
      "text/plain": [
       "             High         Low        Open       Close        Volume  \\\n",
       "count  629.000000  629.000000  629.000000  629.000000  6.290000e+02   \n",
       "mean   291.701113  284.400556  288.181479  287.850158  2.002366e+07   \n",
       "std     28.676123   27.791688   28.254999   28.257842  1.509022e+07   \n",
       "min    238.800003  232.350006  233.250000  233.199997  2.095795e+06   \n",
       "25%    271.399994  264.299988  268.000000  268.000000  1.265322e+07   \n",
       "50%    289.450012  283.000000  286.450012  285.899994  1.645575e+07   \n",
       "75%    308.750000  300.950012  304.649994  305.250000  2.293124e+07   \n",
       "max    373.799988  366.200012  371.950012  372.399994  2.626771e+08   \n",
       "\n",
       "        Adj Close  \n",
       "count  629.000000  \n",
       "mean   287.464204  \n",
       "std     28.415417  \n",
       "min    233.199997  \n",
       "25%    267.431488  \n",
       "50%    285.399994  \n",
       "75%    304.744049  \n",
       "max    372.399994  "
      ]
     },
     "execution_count": 31,
     "metadata": {},
     "output_type": "execute_result"
    }
   ],
   "source": [
    "sbi_y.describe()"
   ]
  },
  {
   "cell_type": "code",
   "execution_count": 33,
   "metadata": {},
   "outputs": [],
   "source": [
    "import pandas as pd"
   ]
  },
  {
   "cell_type": "code",
   "execution_count": 34,
   "metadata": {},
   "outputs": [],
   "source": [
    "sbi_y.to_csv('data/sbi.csv')"
   ]
  },
  {
   "cell_type": "code",
   "execution_count": 35,
   "metadata": {},
   "outputs": [],
   "source": [
    "df=pd.read_csv('data/sbi.csv',header=0,index_col='Date',parse_dates=True)"
   ]
  },
  {
   "cell_type": "code",
   "execution_count": 37,
   "metadata": {},
   "outputs": [
    {
     "data": {
      "text/html": [
       "<div>\n",
       "<style scoped>\n",
       "    .dataframe tbody tr th:only-of-type {\n",
       "        vertical-align: middle;\n",
       "    }\n",
       "\n",
       "    .dataframe tbody tr th {\n",
       "        vertical-align: top;\n",
       "    }\n",
       "\n",
       "    .dataframe thead th {\n",
       "        text-align: right;\n",
       "    }\n",
       "</style>\n",
       "<table border=\"1\" class=\"dataframe\">\n",
       "  <thead>\n",
       "    <tr style=\"text-align: right;\">\n",
       "      <th></th>\n",
       "      <th>High</th>\n",
       "      <th>Low</th>\n",
       "      <th>Open</th>\n",
       "      <th>Close</th>\n",
       "      <th>Volume</th>\n",
       "      <th>Adj Close</th>\n",
       "    </tr>\n",
       "    <tr>\n",
       "      <th>Date</th>\n",
       "      <th></th>\n",
       "      <th></th>\n",
       "      <th></th>\n",
       "      <th></th>\n",
       "      <th></th>\n",
       "      <th></th>\n",
       "    </tr>\n",
       "  </thead>\n",
       "  <tbody>\n",
       "    <tr>\n",
       "      <th>2017-01-02</th>\n",
       "      <td>253.649994</td>\n",
       "      <td>242.600006</td>\n",
       "      <td>252.500000</td>\n",
       "      <td>243.600006</td>\n",
       "      <td>25988990.0</td>\n",
       "      <td>241.416748</td>\n",
       "    </tr>\n",
       "    <tr>\n",
       "      <th>2017-01-03</th>\n",
       "      <td>246.399994</td>\n",
       "      <td>241.100006</td>\n",
       "      <td>244.000000</td>\n",
       "      <td>244.899994</td>\n",
       "      <td>15963085.0</td>\n",
       "      <td>242.705093</td>\n",
       "    </tr>\n",
       "    <tr>\n",
       "      <th>2017-01-04</th>\n",
       "      <td>246.399994</td>\n",
       "      <td>242.199997</td>\n",
       "      <td>245.800003</td>\n",
       "      <td>242.899994</td>\n",
       "      <td>11225978.0</td>\n",
       "      <td>240.723007</td>\n",
       "    </tr>\n",
       "    <tr>\n",
       "      <th>2017-01-05</th>\n",
       "      <td>245.899994</td>\n",
       "      <td>243.699997</td>\n",
       "      <td>245.000000</td>\n",
       "      <td>245.350006</td>\n",
       "      <td>11970913.0</td>\n",
       "      <td>243.151062</td>\n",
       "    </tr>\n",
       "    <tr>\n",
       "      <th>2017-01-06</th>\n",
       "      <td>249.000000</td>\n",
       "      <td>245.500000</td>\n",
       "      <td>246.000000</td>\n",
       "      <td>245.899994</td>\n",
       "      <td>12354302.0</td>\n",
       "      <td>243.696121</td>\n",
       "    </tr>\n",
       "  </tbody>\n",
       "</table>\n",
       "</div>"
      ],
      "text/plain": [
       "                  High         Low        Open       Close      Volume  \\\n",
       "Date                                                                     \n",
       "2017-01-02  253.649994  242.600006  252.500000  243.600006  25988990.0   \n",
       "2017-01-03  246.399994  241.100006  244.000000  244.899994  15963085.0   \n",
       "2017-01-04  246.399994  242.199997  245.800003  242.899994  11225978.0   \n",
       "2017-01-05  245.899994  243.699997  245.000000  245.350006  11970913.0   \n",
       "2017-01-06  249.000000  245.500000  246.000000  245.899994  12354302.0   \n",
       "\n",
       "             Adj Close  \n",
       "Date                    \n",
       "2017-01-02  241.416748  \n",
       "2017-01-03  242.705093  \n",
       "2017-01-04  240.723007  \n",
       "2017-01-05  243.151062  \n",
       "2017-01-06  243.696121  "
      ]
     },
     "execution_count": 37,
     "metadata": {},
     "output_type": "execute_result"
    }
   ],
   "source": [
    "df.head()"
   ]
  },
  {
   "cell_type": "code",
   "execution_count": 39,
   "metadata": {},
   "outputs": [
    {
     "data": {
      "text/plain": [
       "DatetimeIndex(['2017-01-02', '2017-01-03', '2017-01-04', '2017-01-05',\n",
       "               '2017-01-06', '2017-01-09', '2017-01-10', '2017-01-11',\n",
       "               '2017-01-12', '2017-01-13',\n",
       "               ...\n",
       "               '2019-07-08', '2019-07-09', '2019-07-10', '2019-07-11',\n",
       "               '2019-07-12', '2019-07-15', '2019-07-16', '2019-07-17',\n",
       "               '2019-07-18', '2019-07-19'],\n",
       "              dtype='datetime64[ns]', name='Date', length=629, freq=None)"
      ]
     },
     "execution_count": 39,
     "metadata": {},
     "output_type": "execute_result"
    }
   ],
   "source": [
    "df.index"
   ]
  },
  {
   "cell_type": "code",
   "execution_count": 40,
   "metadata": {},
   "outputs": [
    {
     "data": {
      "text/plain": [
       "Index(['High', 'Low', 'Open', 'Close', 'Volume', 'Adj Close'], dtype='object')"
      ]
     },
     "execution_count": 40,
     "metadata": {},
     "output_type": "execute_result"
    }
   ],
   "source": [
    "df.columns"
   ]
  },
  {
   "cell_type": "code",
   "execution_count": 42,
   "metadata": {},
   "outputs": [],
   "source": [
    "ts=df['Close'][-10:]"
   ]
  },
  {
   "cell_type": "code",
   "execution_count": 43,
   "metadata": {},
   "outputs": [
    {
     "data": {
      "text/plain": [
       "Date\n",
       "2019-07-08    355.299988\n",
       "2019-07-09    359.500000\n",
       "2019-07-10    354.200012\n",
       "2019-07-11    363.200012\n",
       "2019-07-12    363.600006\n",
       "2019-07-15    360.049988\n",
       "2019-07-16    364.350006\n",
       "2019-07-17    372.399994\n",
       "2019-07-18    363.649994\n",
       "2019-07-19    356.000000\n",
       "Name: Close, dtype: float64"
      ]
     },
     "execution_count": 43,
     "metadata": {},
     "output_type": "execute_result"
    }
   ],
   "source": [
    "ts"
   ]
  },
  {
   "cell_type": "code",
   "execution_count": 44,
   "metadata": {},
   "outputs": [
    {
     "data": {
      "text/plain": [
       "Date\n",
       "2019-07-08    355.299988\n",
       "2019-07-09    359.500000\n",
       "2019-07-10    354.200012\n",
       "2019-07-11    363.200012\n",
       "2019-07-12    363.600006\n",
       "2019-07-15    360.049988\n",
       "2019-07-16    364.350006\n",
       "2019-07-17    372.399994\n",
       "2019-07-18    363.649994\n",
       "2019-07-19    356.000000\n",
       "Name: Close, dtype: float64"
      ]
     },
     "execution_count": 44,
     "metadata": {},
     "output_type": "execute_result"
    }
   ],
   "source": [
    "df.Close.tail(10)"
   ]
  },
  {
   "cell_type": "code",
   "execution_count": 45,
   "metadata": {},
   "outputs": [
    {
     "data": {
      "text/plain": [
       "pandas.core.series.Series"
      ]
     },
     "execution_count": 45,
     "metadata": {},
     "output_type": "execute_result"
    }
   ],
   "source": [
    "type(ts)"
   ]
  },
  {
   "cell_type": "code",
   "execution_count": 48,
   "metadata": {},
   "outputs": [
    {
     "data": {
      "text/plain": [
       "<matplotlib.axes._subplots.AxesSubplot at 0x20fdd3b9cf8>"
      ]
     },
     "execution_count": 48,
     "metadata": {},
     "output_type": "execute_result"
    },
    {
     "data": {
      "image/png": "[encoded data removed]",
      "text/plain": [
       "<Figure size 432x288 with 1 Axes>"
      ]
     },
     "metadata": {
      "needs_background": "light"
     },
     "output_type": "display_data"
    }
   ],
   "source": [
    "df.Open.plot()"
   ]
  },
  {
   "cell_type": "code",
   "execution_count": 49,
   "metadata": {},
   "outputs": [
    {
     "data": {
      "text/plain": [
       "<matplotlib.axes._subplots.AxesSubplot at 0x20fdd4258d0>"
      ]
     },
     "execution_count": 49,
     "metadata": {},
     "output_type": "execute_result"
    },
    {
     "data": {
      "image/png": "[encoded data removed]",
      "text/plain": [
       "<Figure size 432x288 with 1 Axes>"
      ]
     },
     "metadata": {
      "needs_background": "light"
     },
     "output_type": "display_data"
    }
   ],
   "source": [
    "df.Close.plot()"
   ]
  },
  {
   "cell_type": "code",
   "execution_count": 52,
   "metadata": {},
   "outputs": [
    {
     "data": {
      "text/plain": [
       "629"
      ]
     },
     "execution_count": 52,
     "metadata": {},
     "output_type": "execute_result"
    }
   ],
   "source": [
    "len(df)"
   ]
  },
  {
   "cell_type": "code",
   "execution_count": 57,
   "metadata": {},
   "outputs": [
    {
     "name": "stdout",
     "output_type": "stream",
     "text": [
      "                  High         Low        Open       Close      Volume  \\\n",
      "Date                                                                     \n",
      "2018-11-01  289.000000  278.850006  283.000000  285.899994  29144808.0   \n",
      "2018-11-02  292.799988  283.200012  287.899994  285.350006  27760214.0   \n",
      "2018-11-05  300.000000  283.500000  286.450012  294.950012  44619891.0   \n",
      "2018-11-06  298.299988  283.899994  296.100006  286.450012  40688243.0   \n",
      "2018-11-07  288.899994  285.950012  288.899994  286.549988   3312160.0   \n",
      "\n",
      "             Adj Close  \n",
      "Date                    \n",
      "2018-11-01  285.899994  \n",
      "2018-11-02  285.350006  \n",
      "2018-11-05  294.950012  \n",
      "2018-11-06  286.450012  \n",
      "2018-11-07  286.549988  \n"
     ]
    }
   ],
   "source": [
    "print(df.loc[pd.Timestamp('2018-11-01'):pd.Timestamp('2018-12-31')].head(5))"
   ]
  },
  {
   "cell_type": "code",
   "execution_count": 62,
   "metadata": {},
   "outputs": [
    {
     "data": {
      "text/html": [
       "<div>\n",
       "<style scoped>\n",
       "    .dataframe tbody tr th:only-of-type {\n",
       "        vertical-align: middle;\n",
       "    }\n",
       "\n",
       "    .dataframe tbody tr th {\n",
       "        vertical-align: top;\n",
       "    }\n",
       "\n",
       "    .dataframe thead th {\n",
       "        text-align: right;\n",
       "    }\n",
       "</style>\n",
       "<table border=\"1\" class=\"dataframe\">\n",
       "  <thead>\n",
       "    <tr style=\"text-align: right;\">\n",
       "      <th></th>\n",
       "      <th></th>\n",
       "      <th>High</th>\n",
       "      <th>Low</th>\n",
       "      <th>Open</th>\n",
       "      <th>Close</th>\n",
       "      <th>Volume</th>\n",
       "      <th>Adj Close</th>\n",
       "    </tr>\n",
       "    <tr>\n",
       "      <th>Ticker</th>\n",
       "      <th>Date</th>\n",
       "      <th></th>\n",
       "      <th></th>\n",
       "      <th></th>\n",
       "      <th></th>\n",
       "      <th></th>\n",
       "      <th></th>\n",
       "    </tr>\n",
       "  </thead>\n",
       "  <tbody>\n",
       "    <tr>\n",
       "      <th rowspan=\"5\" valign=\"top\">ICICIBANK.BO</th>\n",
       "      <th>2017-10-03</th>\n",
       "      <td>280.850006</td>\n",
       "      <td>275.350006</td>\n",
       "      <td>278.399994</td>\n",
       "      <td>278.450012</td>\n",
       "      <td>233821.0</td>\n",
       "      <td>274.142700</td>\n",
       "    </tr>\n",
       "    <tr>\n",
       "      <th>2017-10-04</th>\n",
       "      <td>279.500000</td>\n",
       "      <td>275.200012</td>\n",
       "      <td>278.200012</td>\n",
       "      <td>276.000000</td>\n",
       "      <td>355078.0</td>\n",
       "      <td>271.730560</td>\n",
       "    </tr>\n",
       "    <tr>\n",
       "      <th>2017-10-05</th>\n",
       "      <td>277.500000</td>\n",
       "      <td>271.100006</td>\n",
       "      <td>276.000000</td>\n",
       "      <td>271.750000</td>\n",
       "      <td>473525.0</td>\n",
       "      <td>267.546326</td>\n",
       "    </tr>\n",
       "    <tr>\n",
       "      <th>2017-10-06</th>\n",
       "      <td>274.399994</td>\n",
       "      <td>270.750000</td>\n",
       "      <td>271.500000</td>\n",
       "      <td>272.250000</td>\n",
       "      <td>1341313.0</td>\n",
       "      <td>268.038574</td>\n",
       "    </tr>\n",
       "    <tr>\n",
       "      <th>2017-10-09</th>\n",
       "      <td>276.100006</td>\n",
       "      <td>271.200012</td>\n",
       "      <td>271.200012</td>\n",
       "      <td>271.850006</td>\n",
       "      <td>720713.0</td>\n",
       "      <td>267.644806</td>\n",
       "    </tr>\n",
       "  </tbody>\n",
       "</table>\n",
       "</div>"
      ],
      "text/plain": [
       "                               High         Low        Open       Close  \\\n",
       "Ticker       Date                                                         \n",
       "ICICIBANK.BO 2017-10-03  280.850006  275.350006  278.399994  278.450012   \n",
       "             2017-10-04  279.500000  275.200012  278.200012  276.000000   \n",
       "             2017-10-05  277.500000  271.100006  276.000000  271.750000   \n",
       "             2017-10-06  274.399994  270.750000  271.500000  272.250000   \n",
       "             2017-10-09  276.100006  271.200012  271.200012  271.850006   \n",
       "\n",
       "                            Volume   Adj Close  \n",
       "Ticker       Date                               \n",
       "ICICIBANK.BO 2017-10-03   233821.0  274.142700  \n",
       "             2017-10-04   355078.0  271.730560  \n",
       "             2017-10-05   473525.0  267.546326  \n",
       "             2017-10-06  1341313.0  268.038574  \n",
       "             2017-10-09   720713.0  267.644806  "
      ]
     },
     "execution_count": 62,
     "metadata": {},
     "output_type": "execute_result"
    }
   ],
   "source": [
    "def get(tickers, startdate, enddate):\n",
    "  def data(ticker):\n",
    "    return (web.get_data_yahoo(ticker, start=startdate, end=enddate))\n",
    "  datas = map (data, tickers)\n",
    "  return(pd.concat(datas, keys=tickers, names=['Ticker', 'Date']))\n",
    "\n",
    "tickers = ['ICICIBANK.BO','']\n",
    "all_data = get(tickers, datetime.datetime(2017, 10, 1), datetime.datetime(2019, 1, 1))\n",
    "all_data.head()"
   ]
  },
  {
   "cell_type": "code",
   "execution_count": null,
   "metadata": {},
   "outputs": [],
   "source": []
  }
 ],
 "metadata": {
  "kernelspec": {
   "display_name": "Python 3",
   "language": "python",
   "name": "python3"
  },
  "language_info": {
   "codemirror_mode": {
    "name": "ipython",
    "version": 3
   },
   "file_extension": ".py",
   "mimetype": "text/x-python",
   "name": "python",
   "nbconvert_exporter": "python",
   "pygments_lexer": "ipython3",
   "version": "3.7.3"
  }
 },
 "nbformat": 4,
 "nbformat_minor": 2
}
